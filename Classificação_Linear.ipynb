{
  "nbformat": 4,
  "nbformat_minor": 0,
  "metadata": {
    "colab": {
      "name": "Classificação-Linear.ipynb",
      "provenance": [],
      "authorship_tag": "ABX9TyNUAW3jNPCZrsMawF5QOjtV",
      "include_colab_link": true
    },
    "kernelspec": {
      "name": "python3",
      "display_name": "Python 3"
    }
  },
  "cells": [
    {
      "cell_type": "markdown",
      "metadata": {
        "id": "view-in-github",
        "colab_type": "text"
      },
      "source": [
        "<a href=\"https://colab.research.google.com/github/Giovanni-Jardim/pytorch/blob/main/Classifica%C3%A7%C3%A3o_Linear.ipynb\" target=\"_parent\"><img src=\"https://colab.research.google.com/assets/colab-badge.svg\" alt=\"Open In Colab\"/></a>"
      ]
    },
    {
      "cell_type": "code",
      "metadata": {
        "id": "W20pHOTe2xCc"
      },
      "source": [
        ""
      ],
      "execution_count": null,
      "outputs": []
    },
    {
      "cell_type": "markdown",
      "metadata": {
        "id": "JNS-dh1I235D"
      },
      "source": [
        "# Classificação Linear\n",
        "Nesse notebook vamos refrescar a memória sobre equações lineares ao mesmo tempo que será possível enxergar uma reta como um classificador linear.\n",
        "\n",
        "<b> Nota </b> : Mesmo que você já saiba tudo sobre retas, recomendo revisar os conceitos."
      ]
    },
    {
      "cell_type": "markdown",
      "metadata": {
        "id": "Xr9rg6z25Hyh"
      },
      "source": [
        "# Equação da reta\n",
        "A equação da reta é aprendida na forma <var> ax + by + c </var>, mas para nos adequarmos às nomenclaturas de redes neurais vamos reescrever essa equação como <b><var>w<sub>1</sub>x<sub>1</sub> + w<sub>2</sub>x<sub>2</sub> + b</var></b>. Ou seja, <b><var>w<sub>1</sub>, w<sub>2</sub> e b</var></b> são os parámetros que definem o nosso <b>modelo linear</b>, a nossa reta.\n",
        "<p>Vamos começar realizando o plot de uma reta específica: <var><b>-1x + 4x + 0.4</p></var>"
      ]
    },
    {
      "cell_type": "code",
      "metadata": {
        "id": "FydWZ2ic8Dn2",
        "outputId": "16f5ad3a-5286-458c-db25-459f7db81a0d",
        "colab": {
          "base_uri": "https://localhost:8080/",
          "height": 265
        }
      },
      "source": [
        "import numpy as np\n",
        "import matplotlib.pyplot as plt\n",
        "\n",
        "\n",
        "# pesos da reta\n",
        "a = -1\n",
        "b = 4\n",
        "\n",
        "# viés da reta\n",
        "c = 0.4\n",
        "\n",
        "\n",
        "\n",
        "# equação da reta\n",
        "# ax + by + c = 0\n",
        "# y = (-a*x - c) / b\n",
        "\n",
        "def plotline(a, b, c):\n",
        "  # gerando os valores de X como um intervalo de valores. \n",
        "  # serão gerados 50 valores no intervalo entre -2 e 4\n",
        "  x = np.linspace(-2, 4, 50)\n",
        "\n",
        "  # calculando o valor de y\n",
        "  y = (-a*x - c) / b\n",
        "\n",
        "  # plotanto a reta no plano cartesiano\n",
        "  # reta vertical em zero\n",
        "  plt.axvline(0,-1,1, color='k', linewidth=1)\n",
        "  # reta horizontal em zero\n",
        "  plt.axhline(0,-2,4, color='k', linewidth=1)\n",
        "  plt.plot(x, y)\n",
        "  plt.grid(True)\n",
        "\n",
        "plotline(a, b, c)"
      ],
      "execution_count": 11,
      "outputs": [
        {
          "output_type": "display_data",
          "data": {
            "image/png": "[encoded data removed]",
            "text/plain": [
              "<Figure size 432x288 with 1 Axes>"
            ]
          },
          "metadata": {
            "tags": [],
            "needs_background": "light"
          }
        }
      ]
    },
    {
      "cell_type": "markdown",
      "metadata": {
        "id": "pZDunaj18FXr"
      },
      "source": [
        "# Solucionando a equação da reta para diferenres pontos\n",
        "A seguir vamos selecionar três pontos no espaço, e solucionar a equação da reta para esses pontos."
      ]
    },
    {
      "cell_type": "code",
      "metadata": {
        "id": "GF5dqLCe8XMT",
        "outputId": "cae4337e-844d-4dbc-9dc8-d3de4fe68c9b",
        "colab": {
          "base_uri": "https://localhost:8080/",
          "height": 282
        }
      },
      "source": [
        "p1 = (2, 0.4)\n",
        "p2 = (1, 0.6)\n",
        "p3 = (3, -0.4)\n",
        "\n",
        "# plotando \n",
        "plotline(a,b,c)\n",
        "plt.plot(p1[0], p1[1], color= 'b', marker=\"o\")\n",
        "plt.plot(p2[0], p2[1], color= 'r', marker=\"o\")\n",
        "plt.plot(p3[0], p3[1], color= 'g', marker=\"o\")\n"
      ],
      "execution_count": 19,
      "outputs": [
        {
          "output_type": "execute_result",
          "data": {
            "text/plain": [
              "[<matplotlib.lines.Line2D at 0x7fdecd377e48>]"
            ]
          },
          "metadata": {
            "tags": []
          },
          "execution_count": 19
        },
        {
          "output_type": "display_data",
          "data": {
            "image/png": "[encoded data removed]",
            "text/plain": [
              "<Figure size 432x288 with 1 Axes>"
            ]
          },
          "metadata": {
            "tags": [],
            "needs_background": "light"
          }
        }
      ]
    },
    {
      "cell_type": "code",
      "metadata": {
        "id": "rwPyqmXMB2Jr",
        "outputId": "88251eeb-8992-443c-91be-93b75bfac775",
        "colab": {
          "base_uri": "https://localhost:8080/"
        }
      },
      "source": [
        "# ax + by + c\n",
        "ret1 = a*p1[0] + b*p1[1] + c\n",
        "print(\"%.2f\" % ret1)\n",
        "\n",
        "# ax + by + c\n",
        "ret2 = a*p2[0] + b*p2[1] + c\n",
        "print(\"%.2f\" % ret2)\n",
        "\n",
        "# ax + by + c\n",
        "ret3 = a*p3[0] + b*p3[1] + c\n",
        "print(\"%.2f\" % ret3)"
      ],
      "execution_count": 20,
      "outputs": [
        {
          "output_type": "stream",
          "text": [
            "0.00\n",
            "1.80\n",
            "-4.20\n"
          ],
          "name": "stdout"
        }
      ]
    }
  ]
}